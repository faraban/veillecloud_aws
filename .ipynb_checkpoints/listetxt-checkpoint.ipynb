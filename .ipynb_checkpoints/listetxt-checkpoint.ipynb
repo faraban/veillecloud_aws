{
 "cells": [
  {
   "cell_type": "code",
   "execution_count": 21,
   "id": "e858ee86",
   "metadata": {},
   "outputs": [],
   "source": [
    "import pandas as pd"
   ]
  },
  {
   "cell_type": "code",
   "execution_count": 43,
   "id": "8d424048",
   "metadata": {},
   "outputs": [],
   "source": [
    "def recensement ():\n",
    "    nom= str(input(\"entre votre nom\",))\n",
    "    prenom= str(input(\"entre votre prenom\",))\n",
    "    lieu= str(input(\"entre votre adresse\",))\n",
    "    mail= str(input(\"entre votre mail\",))\n",
    "    numero= str(input(\"entre votre numero\",))\n",
    "    reference=pd.DataFrame([nom,prenom,lieu,mail,numero])\n",
    "    return reference"
   ]
  },
  {
   "cell_type": "code",
   "execution_count": 40,
   "id": "dcc44d7e",
   "metadata": {},
   "outputs": [],
   "source": [
    "def plateforme():\n",
    "    txt=pd.read_csv(\"C:/Users/LAMTE INOVACI/Desktop/CLOUDAWS/travauxsimplonaws/cloud/liste.txt\")\n",
    "    des=str(input(\"soyez la bienvenue, entrez enreg pour vous inscrit ou aff pour afficher la liste\",))\n",
    "    if des==\"enreg\":\n",
    "        a=recensement()\n",
    "        \n",
    "    elif des=='aff':\n",
    "        print(\"hello\")\n",
    "    else:\n",
    "        plateforme()"
   ]
  },
  {
   "cell_type": "code",
   "execution_count": 50,
   "id": "a2cc1af7",
   "metadata": {},
   "outputs": [],
   "source": [
    "txt=pd.read_csv(\"C:/Users/LAMTE INOVACI/Desktop/CLOUDAWS/travauxsimplonaws/cloud/liste.txt\")"
   ]
  },
  {
   "cell_type": "code",
   "execution_count": 44,
   "id": "77b5943d",
   "metadata": {},
   "outputs": [
    {
     "name": "stdout",
     "output_type": "stream",
     "text": [
      "entre votre nomQFESSE\n",
      "entre votre prenomSDFE\n",
      "entre votre adresseSDFE\n",
      "entre votre mailSDFES\n",
      "entre votre numero36552\n"
     ]
    }
   ],
   "source": [
    "a=recensement()"
   ]
  },
  {
   "cell_type": "code",
   "execution_count": 46,
   "id": "0ec8aeae",
   "metadata": {},
   "outputs": [
    {
     "data": {
      "text/html": [
       "<div>\n",
       "<style scoped>\n",
       "    .dataframe tbody tr th:only-of-type {\n",
       "        vertical-align: middle;\n",
       "    }\n",
       "\n",
       "    .dataframe tbody tr th {\n",
       "        vertical-align: top;\n",
       "    }\n",
       "\n",
       "    .dataframe thead th {\n",
       "        text-align: right;\n",
       "    }\n",
       "</style>\n",
       "<table border=\"1\" class=\"dataframe\">\n",
       "  <thead>\n",
       "    <tr style=\"text-align: right;\">\n",
       "      <th></th>\n",
       "      <th>0</th>\n",
       "      <th>1</th>\n",
       "      <th>2</th>\n",
       "      <th>3</th>\n",
       "      <th>4</th>\n",
       "    </tr>\n",
       "  </thead>\n",
       "  <tbody>\n",
       "    <tr>\n",
       "      <th>0</th>\n",
       "      <td>QFESSE</td>\n",
       "      <td>SDFE</td>\n",
       "      <td>SDFE</td>\n",
       "      <td>SDFES</td>\n",
       "      <td>36552</td>\n",
       "    </tr>\n",
       "  </tbody>\n",
       "</table>\n",
       "</div>"
      ],
      "text/plain": [
       "        0     1     2      3      4\n",
       "0  QFESSE  SDFE  SDFE  SDFES  36552"
      ]
     },
     "execution_count": 46,
     "metadata": {},
     "output_type": "execute_result"
    }
   ],
   "source": [
    "a"
   ]
  },
  {
   "cell_type": "code",
   "execution_count": 54,
   "id": "d5bd6cf4",
   "metadata": {},
   "outputs": [
    {
     "name": "stderr",
     "output_type": "stream",
     "text": [
      "C:\\Users\\LAMTE INOVACI\\AppData\\Local\\Temp\\ipykernel_11132\\774864989.py:1: FutureWarning: The frame.append method is deprecated and will be removed from pandas in a future version. Use pandas.concat instead.\n",
      "  txt.append(a)\n"
     ]
    },
    {
     "data": {
      "text/html": [
       "<div>\n",
       "<style scoped>\n",
       "    .dataframe tbody tr th:only-of-type {\n",
       "        vertical-align: middle;\n",
       "    }\n",
       "\n",
       "    .dataframe tbody tr th {\n",
       "        vertical-align: top;\n",
       "    }\n",
       "\n",
       "    .dataframe thead th {\n",
       "        text-align: right;\n",
       "    }\n",
       "</style>\n",
       "<table border=\"1\" class=\"dataframe\">\n",
       "  <thead>\n",
       "    <tr style=\"text-align: right;\">\n",
       "      <th></th>\n",
       "      <th>nom</th>\n",
       "      <th>0</th>\n",
       "    </tr>\n",
       "  </thead>\n",
       "  <tbody>\n",
       "    <tr>\n",
       "      <th>0</th>\n",
       "      <td>prenom</td>\n",
       "      <td>NaN</td>\n",
       "    </tr>\n",
       "    <tr>\n",
       "      <th>1</th>\n",
       "      <td>lieu</td>\n",
       "      <td>NaN</td>\n",
       "    </tr>\n",
       "    <tr>\n",
       "      <th>2</th>\n",
       "      <td>mail</td>\n",
       "      <td>NaN</td>\n",
       "    </tr>\n",
       "    <tr>\n",
       "      <th>3</th>\n",
       "      <td>numero</td>\n",
       "      <td>NaN</td>\n",
       "    </tr>\n",
       "    <tr>\n",
       "      <th>0</th>\n",
       "      <td>NaN</td>\n",
       "      <td>QFESSE</td>\n",
       "    </tr>\n",
       "    <tr>\n",
       "      <th>1</th>\n",
       "      <td>NaN</td>\n",
       "      <td>SDFE</td>\n",
       "    </tr>\n",
       "    <tr>\n",
       "      <th>2</th>\n",
       "      <td>NaN</td>\n",
       "      <td>SDFE</td>\n",
       "    </tr>\n",
       "    <tr>\n",
       "      <th>3</th>\n",
       "      <td>NaN</td>\n",
       "      <td>SDFES</td>\n",
       "    </tr>\n",
       "    <tr>\n",
       "      <th>4</th>\n",
       "      <td>NaN</td>\n",
       "      <td>36552</td>\n",
       "    </tr>\n",
       "  </tbody>\n",
       "</table>\n",
       "</div>"
      ],
      "text/plain": [
       "      nom        0\n",
       "0  prenom      NaN\n",
       "1    lieu      NaN\n",
       "2    mail      NaN\n",
       "3   numero     NaN\n",
       "0      NaN  QFESSE\n",
       "1      NaN    SDFE\n",
       "2      NaN    SDFE\n",
       "3      NaN   SDFES\n",
       "4      NaN   36552"
      ]
     },
     "execution_count": 54,
     "metadata": {},
     "output_type": "execute_result"
    }
   ],
   "source": [
    "txt.append(a)"
   ]
  },
  {
   "cell_type": "code",
   "execution_count": null,
   "id": "f395b7c2",
   "metadata": {},
   "outputs": [],
   "source": []
  }
 ],
 "metadata": {
  "kernelspec": {
   "display_name": "Python 3 (ipykernel)",
   "language": "python",
   "name": "python3"
  },
  "language_info": {
   "codemirror_mode": {
    "name": "ipython",
    "version": 3
   },
   "file_extension": ".py",
   "mimetype": "text/x-python",
   "name": "python",
   "nbconvert_exporter": "python",
   "pygments_lexer": "ipython3",
   "version": "3.9.12"
  }
 },
 "nbformat": 4,
 "nbformat_minor": 5
}
