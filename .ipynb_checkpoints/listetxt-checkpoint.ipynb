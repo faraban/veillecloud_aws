{
 "cells": [
  {
   "cell_type": "code",
   "execution_count": 1,
   "id": "e858ee86",
   "metadata": {},
   "outputs": [],
   "source": [
    "import pandas as pd"
   ]
  },
  {
   "cell_type": "code",
   "execution_count": 28,
   "id": "8d424048",
   "metadata": {},
   "outputs": [],
   "source": [
    "def recensement ():\n",
    "    nom= str(input(\"entre votre nom\",))\n",
    "    prenom= str(input(\"entre votre prenom\",))\n",
    "    lieu= str(input(\"entre votre adresse\",))\n",
    "    mail= str(input(\"entre votre mail\",))\n",
    "    numero= str(input(\"entre votre numero\",))\n",
    "    return nom,prenom,lieu,mail,numero"
   ]
  },
  {
   "cell_type": "code",
   "execution_count": 38,
   "id": "dcc44d7e",
   "metadata": {},
   "outputs": [],
   "source": [
    "def plateforme():\n",
    "    liste=open(\"liste1.txt\",\"a\")\n",
    "    liste.close\n",
    "    des=str(input(\"soyez la bienvenue, entrez enreg pour vous inscrit ou aff pour afficher la liste\",))\n",
    "    if des==\"enreg\":\n",
    "        nom,prenom,lieu,mail,numero=recensement()\n",
    "        liste.write(nom+\" \"+prenom+\" \"+lieu+\" \"+mail+\" \"+numero+\"\\n\")\n",
    "        #liste.write(\"\\n\")\n",
    "    elif des=='aff':\n",
    "        listeaff=pd.read_csv(\"C:/Users/USERSIMPLON/Desktop/CLOUDAWS/travauxsimplonaws/cloud/veillecloud_aws/liste1.txt\")\n",
    "        listeaff\n",
    "    else:\n",
    "        plateforme()"
   ]
  },
  {
   "cell_type": "code",
   "execution_count": 39,
   "id": "e1054e8c",
   "metadata": {},
   "outputs": [
    {
     "name": "stdout",
     "output_type": "stream",
     "text": [
      "soyez la bienvenue, entrez enreg pour vous inscrit ou aff pour afficher la listeaff\n"
     ]
    }
   ],
   "source": [
    "plateforme()"
   ]
  },
  {
   "cell_type": "code",
   "execution_count": 40,
   "id": "1b127c2b",
   "metadata": {},
   "outputs": [],
   "source": [
    "listeaff=pd.read_csv(\"C:/Users/USERSIMPLON/Desktop/CLOUDAWS/travauxsimplonaws/cloud/veillecloud_aws/liste1.txt\")"
   ]
  },
  {
   "cell_type": "code",
   "execution_count": 41,
   "id": "bdb27136",
   "metadata": {},
   "outputs": [
    {
     "data": {
      "text/html": [
       "<div>\n",
       "<style scoped>\n",
       "    .dataframe tbody tr th:only-of-type {\n",
       "        vertical-align: middle;\n",
       "    }\n",
       "\n",
       "    .dataframe tbody tr th {\n",
       "        vertical-align: top;\n",
       "    }\n",
       "\n",
       "    .dataframe thead th {\n",
       "        text-align: right;\n",
       "    }\n",
       "</style>\n",
       "<table border=\"1\" class=\"dataframe\">\n",
       "  <thead>\n",
       "    <tr style=\"text-align: right;\">\n",
       "      <th></th>\n",
       "      <th>camaracamaralamineadjamemail0102030405nomprenomlieumailnumero</th>\n",
       "    </tr>\n",
       "  </thead>\n",
       "  <tbody>\n",
       "    <tr>\n",
       "      <th>0</th>\n",
       "      <td>nom  prenom  lieu  mail  numero</td>\n",
       "    </tr>\n",
       "    <tr>\n",
       "      <th>1</th>\n",
       "      <td>nom  prenom  lieu  mail  numero</td>\n",
       "    </tr>\n",
       "    <tr>\n",
       "      <th>2</th>\n",
       "      <td>camaralamineadjmemail0102030405</td>\n",
       "    </tr>\n",
       "    <tr>\n",
       "      <th>3</th>\n",
       "      <td>camara lamine adjame mail 0102030405</td>\n",
       "    </tr>\n",
       "  </tbody>\n",
       "</table>\n",
       "</div>"
      ],
      "text/plain": [
       "  camaracamaralamineadjamemail0102030405nomprenomlieumailnumero\n",
       "0                    nom  prenom  lieu  mail  numero           \n",
       "1                    nom  prenom  lieu  mail  numero           \n",
       "2                    camaralamineadjmemail0102030405           \n",
       "3               camara lamine adjame mail 0102030405           "
      ]
     },
     "execution_count": 41,
     "metadata": {},
     "output_type": "execute_result"
    }
   ],
   "source": [
    "listeaff"
   ]
  },
  {
   "cell_type": "code",
   "execution_count": null,
   "id": "36080082",
   "metadata": {},
   "outputs": [],
   "source": []
  }
 ],
 "metadata": {
  "kernelspec": {
   "display_name": "Python 3 (ipykernel)",
   "language": "python",
   "name": "python3"
  },
  "language_info": {
   "codemirror_mode": {
    "name": "ipython",
    "version": 3
   },
   "file_extension": ".py",
   "mimetype": "text/x-python",
   "name": "python",
   "nbconvert_exporter": "python",
   "pygments_lexer": "ipython3",
   "version": "3.9.12"
  }
 },
 "nbformat": 4,
 "nbformat_minor": 5
}
