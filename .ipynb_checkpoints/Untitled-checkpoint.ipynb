{
 "cells": [
  {
   "cell_type": "code",
   "execution_count": 7,
   "id": "8d424048",
   "metadata": {},
   "outputs": [],
   "source": [
    "def recensement ():\n",
    "    nom= str(input(\"entre votre nom\",))\n",
    "    prenom= str(input(\"entre votre prenom\",))\n",
    "    lieu= str(input(\"entre votre adresse\",))\n",
    "    mail= str(input(\"entre votre mail\",))\n",
    "    numero= str(input(\"entre votre numero\",))\n",
    "    reference=[nom,prenom,lieu,mail,numero]\n",
    "    return reference"
   ]
  },
  {
   "cell_type": "code",
   "execution_count": 9,
   "id": "dcc44d7e",
   "metadata": {},
   "outputs": [
    {
     "name": "stdout",
     "output_type": "stream",
     "text": [
      "soyez la bienvenue, entrez enreg pour vous inscrit ou aff pour afficher la listexjdwkgf\n"
     ]
    }
   ],
   "source": [
    "table=open(\"liste1.txt\",\"a\")\n",
    "table.close\n",
    "def plateforme():\n",
    "    des=str(input(\"soyez la bienvenue, entrez enreg pour vous inscrit ou aff pour afficher la liste\",))\n",
    "    if des==\"enreg\":\n",
    "        a=recensement()\n",
    "        table.write(a)\n",
    "    elif des=='aff':\n",
    "        plateforme()\n",
    "plateforme()"
   ]
  },
  {
   "cell_type": "code",
   "execution_count": null,
   "id": "c0c08f40",
   "metadata": {},
   "outputs": [],
   "source": []
  }
 ],
 "metadata": {
  "kernelspec": {
   "display_name": "Python 3 (ipykernel)",
   "language": "python",
   "name": "python3"
  },
  "language_info": {
   "codemirror_mode": {
    "name": "ipython",
    "version": 3
   },
   "file_extension": ".py",
   "mimetype": "text/x-python",
   "name": "python",
   "nbconvert_exporter": "python",
   "pygments_lexer": "ipython3",
   "version": "3.9.12"
  }
 },
 "nbformat": 4,
 "nbformat_minor": 5
}
