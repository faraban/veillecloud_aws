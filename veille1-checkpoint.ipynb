{
 "cells": [
  {
   "cell_type": "markdown",
   "id": "12400e5d",
   "metadata": {},
   "source": [
    "# @@ VEILLE1_Python: (Variable, Liste, Tuple, boucle, Condition, Fichier, Diction)"
   ]
  },
  {
   "cell_type": "markdown",
   "id": "0f78c6b9",
   "metadata": {},
   "source": [
    "## >>> Les variables"
   ]
  },
  {
   "cell_type": "markdown",
   "id": "30e96fa6",
   "metadata": {},
   "source": [
    "#### Une variable est une sorte de boite virtuelle dans laquelle on peut mettre une (ou plusieurs) donnée(s). L'idée est de stocker temporairement une donnée pour travailler avec. Pour votre machine une variable est une adresse qui indique l'emplacement de la mémoire vive où sont stockées les informations que nous avons liées avec."
   ]
  },
  {
   "cell_type": "markdown",
   "id": "d7ba65ca",
   "metadata": {},
   "source": [
    "#### declaration de la variable"
   ]
  },
  {
   "cell_type": "code",
   "execution_count": null,
   "id": "f75f9cdf",
   "metadata": {},
   "outputs": [],
   "source": []
  },
  {
   "cell_type": "markdown",
   "id": "676b6f5d",
   "metadata": {},
   "source": [
    "#### les mots reserves"
   ]
  },
  {
   "cell_type": "code",
   "execution_count": null,
   "id": "78447c8c",
   "metadata": {},
   "outputs": [],
   "source": [
    "print in and or if del for is raise assert elif from lambda return break else global not try \n",
    "class except while continue exec import pass yield def finally"
   ]
  },
  {
   "cell_type": "markdown",
   "id": "2e4e6020",
   "metadata": {},
   "source": [
    "#### Les types de variables"
   ]
  },
  {
   "cell_type": "code",
   "execution_count": null,
   "id": "1f483d1c",
   "metadata": {},
   "outputs": [],
   "source": [
    "nombres entiers ( int )\n",
    "nombre à virgules ( float )\n",
    "chaine de caractères ( str )\n",
    "type()"
   ]
  },
  {
   "cell_type": "markdown",
   "id": "229a6f46",
   "metadata": {},
   "source": [
    "#### opperation sur les variable"
   ]
  },
  {
   "cell_type": "code",
   "execution_count": null,
   "id": "4b7d0a78",
   "metadata": {},
   "outputs": [],
   "source": [
    "# +-*/% **"
   ]
  },
  {
   "cell_type": "markdown",
   "id": "8a90e4c0",
   "metadata": {},
   "source": [
    "### >>> liste"
   ]
  },
  {
   "cell_type": "markdown",
   "id": "649a367c",
   "metadata": {},
   "source": [
    "#### Les listes (ou list / array ) en python sont une variable dans laquelle on peut mettre plusieurs variables."
   ]
  },
  {
   "cell_type": "code",
   "execution_count": null,
   "id": "bca9feab",
   "metadata": {},
   "outputs": [],
   "source": []
  }
 ],
 "metadata": {
  "kernelspec": {
   "display_name": "Python 3 (ipykernel)",
   "language": "python",
   "name": "python3"
  },
  "language_info": {
   "codemirror_mode": {
    "name": "ipython",
    "version": 3
   },
   "file_extension": ".py",
   "mimetype": "text/x-python",
   "name": "python",
   "nbconvert_exporter": "python",
   "pygments_lexer": "ipython3",
   "version": "3.9.12"
  }
 },
 "nbformat": 4,
 "nbformat_minor": 5
}
