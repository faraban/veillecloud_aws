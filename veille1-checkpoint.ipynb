{
 "cells": [
  {
   "cell_type": "markdown",
   "id": "12400e5d",
   "metadata": {},
   "source": [
    "# @@ VEILLE1_Python: (Variable, Liste, Tuple, boucle, Condition, Fichier, Diction)"
   ]
  },
  {
   "cell_type": "markdown",
   "id": "0f78c6b9",
   "metadata": {},
   "source": [
    "## >>> Les variables"
   ]
  },
  {
   "cell_type": "markdown",
   "id": "30e96fa6",
   "metadata": {},
   "source": [
    "### Une variable est une sorte de boite virtuelle dans laquelle on peut mettre une (ou plusieurs) donnée(s). L'idée est de stocker temporairement une donnée pour travailler avec. Pour votre machine une variable est une adresse qui indique l'emplacement de la mémoire vive où sont stockées les informations que nous avons liées avec."
   ]
  },
  {
   "cell_type": "markdown",
   "id": "d7ba65ca",
   "metadata": {},
   "source": [
    "#### -- affectation et operation"
   ]
  },
  {
   "cell_type": "code",
   "execution_count": null,
   "id": "4b7d0a78",
   "metadata": {},
   "outputs": [],
   "source": [
    "# +-*/% **"
   ]
  },
  {
   "cell_type": "code",
   "execution_count": null,
   "id": "78447c8c",
   "metadata": {},
   "outputs": [],
   "source": []
  }
 ],
 "metadata": {
  "kernelspec": {
   "display_name": "Python 3 (ipykernel)",
   "language": "python",
   "name": "python3"
  },
  "language_info": {
   "codemirror_mode": {
    "name": "ipython",
    "version": 3
   },
   "file_extension": ".py",
   "mimetype": "text/x-python",
   "name": "python",
   "nbconvert_exporter": "python",
   "pygments_lexer": "ipython3",
   "version": "3.9.12"
  }
 },
 "nbformat": 4,
 "nbformat_minor": 5
}
