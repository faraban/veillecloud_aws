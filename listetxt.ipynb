{
 "cells": [
  {
   "cell_type": "markdown",
   "id": "945fd7e1",
   "metadata": {},
   "source": [
    "# @ veille enregistrement txt"
   ]
  },
  {
   "cell_type": "code",
   "execution_count": 22,
   "id": "e858ee86",
   "metadata": {},
   "outputs": [
    {
     "ename": "ImportError",
     "evalue": "cannot import name 'strftime' from 'datetime' (C:\\Users\\USERSIMPLON\\Anaconda3\\lib\\datetime.py)",
     "output_type": "error",
     "traceback": [
      "\u001b[1;31m---------------------------------------------------------------------------\u001b[0m",
      "\u001b[1;31mImportError\u001b[0m                               Traceback (most recent call last)",
      "Input \u001b[1;32mIn [22]\u001b[0m, in \u001b[0;36m<cell line: 2>\u001b[1;34m()\u001b[0m\n\u001b[0;32m      1\u001b[0m \u001b[38;5;28;01mimport\u001b[39;00m \u001b[38;5;21;01mpandas\u001b[39;00m \u001b[38;5;28;01mas\u001b[39;00m \u001b[38;5;21;01mpd\u001b[39;00m\n\u001b[1;32m----> 2\u001b[0m \u001b[38;5;28;01mfrom\u001b[39;00m \u001b[38;5;21;01mdatetime\u001b[39;00m \u001b[38;5;28;01mimport\u001b[39;00m strftime\n",
      "\u001b[1;31mImportError\u001b[0m: cannot import name 'strftime' from 'datetime' (C:\\Users\\USERSIMPLON\\Anaconda3\\lib\\datetime.py)"
     ]
    }
   ],
   "source": [
    "import pandas as pd\n",
    "from datetime import strftime"
   ]
  },
  {
   "cell_type": "code",
   "execution_count": 17,
   "id": "8d424048",
   "metadata": {},
   "outputs": [],
   "source": [
    "def recensement ():\n",
    "    nom= str(input(\"entre votre nom\",))\n",
    "    prenom= str(input(\"entre votre prenom\",))\n",
    "    lieu= str(input(\"entre votre adresse\",))\n",
    "    mail= str(input(\"entre votre mail\",))\n",
    "    numero= str(input(\"entre votre numero\",))\n",
    "    date= time.strftime(\" %d-%m-%Y %H:%M:%S\")\n",
    "    return nom,prenom,lieu,mail,numero"
   ]
  },
  {
   "cell_type": "code",
   "execution_count": 21,
   "id": "1a2cf79f",
   "metadata": {},
   "outputs": [
    {
     "ename": "AttributeError",
     "evalue": "module 'datetime' has no attribute 'strftime'",
     "output_type": "error",
     "traceback": [
      "\u001b[1;31m---------------------------------------------------------------------------\u001b[0m",
      "\u001b[1;31mAttributeError\u001b[0m                            Traceback (most recent call last)",
      "Input \u001b[1;32mIn [21]\u001b[0m, in \u001b[0;36m<cell line: 1>\u001b[1;34m()\u001b[0m\n\u001b[1;32m----> 1\u001b[0m date\u001b[38;5;241m=\u001b[39m \u001b[43mdatetime\u001b[49m\u001b[38;5;241;43m.\u001b[39;49m\u001b[43mstrftime\u001b[49m(\u001b[38;5;124m\"\u001b[39m\u001b[38;5;124m \u001b[39m\u001b[38;5;132;01m%d\u001b[39;00m\u001b[38;5;124m-\u001b[39m\u001b[38;5;124m%\u001b[39m\u001b[38;5;124mm-\u001b[39m\u001b[38;5;124m%\u001b[39m\u001b[38;5;124mY \u001b[39m\u001b[38;5;124m%\u001b[39m\u001b[38;5;124mH:\u001b[39m\u001b[38;5;124m%\u001b[39m\u001b[38;5;124mM:\u001b[39m\u001b[38;5;124m%\u001b[39m\u001b[38;5;124mS\u001b[39m\u001b[38;5;124m\"\u001b[39m)\n",
      "\u001b[1;31mAttributeError\u001b[0m: module 'datetime' has no attribute 'strftime'"
     ]
    }
   ],
   "source": [
    "\n",
    "date= datetime.strftime(\" %d-%m-%Y %H:%M:%S\")"
   ]
  },
  {
   "cell_type": "code",
   "execution_count": 16,
   "id": "55838a6b",
   "metadata": {},
   "outputs": [],
   "source": [
    "def plateforme():\n",
    "    liste=open(\"liste01.txt\",\"a\")\n",
    "    liste.close\n",
    "    des=str(input(\"soyez la bienvenue, entrez 1 pour vous inscrit ou 2 pour afficher la liste\",))\n",
    "    if des==1:\n",
    "        nom,prenom,lieu,mail,numero=recensement()\n",
    "        liste.write(nom+\" \"+prenom+\" \"+lieu+\" \"+mail+\" \"+numero+\"\\n\")\n",
    "        #liste.write(\"\\n\")\n",
    "    elif des=='aff':\n",
    "        listeaff=pd.read_csv(\"C:/Users/USERSIMPLON/Desktop/CLOUDAWS/travauxsimplonaws/cloud/veillecloud_aws/liste1.txt\")\n",
    "        print(listeaff)\n",
    "    else:\n",
    "        plateforme()"
   ]
  },
  {
   "cell_type": "code",
   "execution_count": null,
   "id": "d3257502",
   "metadata": {},
   "outputs": [],
   "source": []
  }
 ],
 "metadata": {
  "kernelspec": {
   "display_name": "Python 3 (ipykernel)",
   "language": "python",
   "name": "python3"
  },
  "language_info": {
   "codemirror_mode": {
    "name": "ipython",
    "version": 3
   },
   "file_extension": ".py",
   "mimetype": "text/x-python",
   "name": "python",
   "nbconvert_exporter": "python",
   "pygments_lexer": "ipython3",
   "version": "3.9.12"
  }
 },
 "nbformat": 4,
 "nbformat_minor": 5
}
