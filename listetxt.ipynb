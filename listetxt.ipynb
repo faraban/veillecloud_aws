{
 "cells": [
  {
   "cell_type": "markdown",
   "id": "945fd7e1",
   "metadata": {},
   "source": [
    "# @ veille enregistrement txt"
   ]
  },
  {
   "cell_type": "code",
   "execution_count": 23,
   "id": "e858ee86",
   "metadata": {},
   "outputs": [],
   "source": [
    "import pandas as pd"
   ]
  },
  {
   "cell_type": "code",
   "execution_count": 17,
   "id": "8d424048",
   "metadata": {},
   "outputs": [],
   "source": [
    "def recensement ():\n",
    "    nom= str(input(\"entre votre nom\",))\n",
    "    prenom= str(input(\"entre votre prenom\",))\n",
    "    lieu= str(input(\"entre votre adresse\",))\n",
    "    mail= str(input(\"entre votre mail\",))\n",
    "    numero= str(input(\"entre votre numero\",))\n",
    "    return nom,prenom,lieu,mail,numero"
   ]
  },
  {
   "cell_type": "code",
   "execution_count": 16,
   "id": "55838a6b",
   "metadata": {},
   "outputs": [],
   "source": [
    "def plateforme():\n",
    "    liste=open(\"liste01.txt\",\"a\")\n",
    "    liste.close\n",
    "    des=str(input(\"soyez la bienvenue, entrez 1 pour vous inscrit ou 2 pour afficher la liste\",))\n",
    "    if des==1:\n",
    "        nom,prenom,lieu,mail,numero=recensement()\n",
    "        liste.write(nom+\" \"+prenom+\" \"+lieu+\" \"+mail+\" \"+numero+\"\\n\")\n",
    "        plateforme()\n",
    "    elif des=='aff':\n",
    "        listeaff=pd.read_csv(\"C:/Users/USERSIMPLON/Desktop/CLOUDAWS/travauxsimplonaws/cloud/veillecloud_aws/liste1.txt\")\n",
    "        print(listeaff)\n",
    "        plateforme()\n",
    "    else:\n",
    "        plateforme()"
   ]
  }
 ],
 "metadata": {
  "kernelspec": {
   "display_name": "Python 3 (ipykernel)",
   "language": "python",
   "name": "python3"
  },
  "language_info": {
   "codemirror_mode": {
    "name": "ipython",
    "version": 3
   },
   "file_extension": ".py",
   "mimetype": "text/x-python",
   "name": "python",
   "nbconvert_exporter": "python",
   "pygments_lexer": "ipython3",
   "version": "3.9.12"
  }
 },
 "nbformat": 4,
 "nbformat_minor": 5
}
